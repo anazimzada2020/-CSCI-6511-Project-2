{
 "cells": [
  {
   "cell_type": "code",
   "execution_count": 1,
   "metadata": {},
   "outputs": [],
   "source": [
    "import time\n",
    "from collections import deque"
   ]
  },
  {
   "cell_type": "code",
   "execution_count": 2,
   "metadata": {},
   "outputs": [],
   "source": [
    "# Backtracking algorithm assign colors one by one to different vertices\n",
    "# Function also uses 2 heuristics (Minimum Remaining Value, Least Constraining Value) and Arc Consistency\n",
    "\n",
    "def Backtracking(res, adjacency, domain, assignment): \n",
    "    \n",
    "    if -1 not in assignment:\n",
    "        return res\n",
    "    \n",
    "    vertex = MRV(domain, assignment)\n",
    "    color_order = LCV(vertex, adjacency, domain)\n",
    "    \n",
    "    for c in color_order:\n",
    "        domain2 = domain\n",
    "        \n",
    "        if (Is_Safe(vertex, c, res, adjacency)):\n",
    "            domain2[vertex] = [dom for dom in domain[vertex] if dom == c]\n",
    "            arc = []\n",
    "            \n",
    "            for j in adjacency[vertex]:\n",
    "                temp = [j, vertex]\n",
    "                \n",
    "                if assignment[j] != 1:\n",
    "                    arc.append(temp)\n",
    "                \n",
    "                queue = deque(arc)\n",
    "            \n",
    "            [flag, domain_list] = AC3(vertex, queue, adjacency, domain2, assignment)\n",
    "            if flag == 1:\n",
    "                res[vertex] = c\n",
    "                assignment[vertex] = 1\n",
    "                domain2 = domain_list\n",
    "                result = Backtracking(res, adjacency, domain2, assignment)\n",
    "                \n",
    "                if result != 0:\n",
    "                    return result\n",
    "        \n",
    "        res[vertex] = -1\n",
    "        assignment[vertex] = -1\n",
    "\n",
    "    return 0"
   ]
  },
  {
   "cell_type": "code",
   "execution_count": 3,
   "metadata": {},
   "outputs": [],
   "source": [
    "# Backtracking uses this function to check whether it is safe to assign color to particular vertex\n",
    "# Function checks particular vertex's neighbors whether there is vertex with same color\n",
    "\n",
    "def Is_Safe(vertex, cur_color, res, adjacency):\n",
    "    \n",
    "    for j in adjacency[vertex]:\n",
    "        if cur_color == res[j]:\n",
    "            return 0  \n",
    "    \n",
    "    return 1"
   ]
  },
  {
   "cell_type": "code",
   "execution_count": 4,
   "metadata": {},
   "outputs": [],
   "source": [
    "# This function chooses the variable with the fewest possible values\n",
    "# Backtracking uses this function to get the next vertex to be colored\n",
    "\n",
    "def MRV(domain, assignment):\n",
    "    \n",
    "    minimum = 1000\n",
    "    next = -1\n",
    "\n",
    "    for i in range(N):\n",
    "        if (len(domain[i]) < minimum and assignment[i] != 1):\n",
    "            minimum = len(domain[i])\n",
    "            next = i\n",
    "    \n",
    "    return next"
   ]
  },
  {
   "cell_type": "code",
   "execution_count": 5,
   "metadata": {},
   "outputs": [],
   "source": [
    "# This function chooses a value that rules out the smallest number of values \n",
    "# in variables connected to the current variable by constraints.\n",
    "\n",
    "def LCV(vertex, adjacency, domain):\n",
    "    \n",
    "    lcv = []\n",
    "    for dom in domain[vertex]:\n",
    "        minimum = 100\n",
    "        \n",
    "        for i in adjacency[vertex]:\n",
    "            temp = len(domain[i])\n",
    "            if dom in domain[i]:\n",
    "                temp = temp - 1\n",
    "            if(temp < minimum):\n",
    "                minimum = temp\n",
    "        \n",
    "        lcv.append([dom, minimum])\n",
    "        ind = sorted(lcv, key=lambda res: res[1], reverse = True)\n",
    "        color = [col[0] for col in ind]\n",
    "    \n",
    "    return color"
   ]
  },
  {
   "cell_type": "code",
   "execution_count": 6,
   "metadata": {},
   "outputs": [],
   "source": [
    "# Arc consistency eliminates values from domain of variable that can never be part of a consistent solution\n",
    "# AC3 function returns the CSP with reduced domains\n",
    "# Function is being called by the Backtracking function\n",
    "\n",
    "def AC3(res, queue, adjacency, domain2, assignment):\n",
    "    \n",
    "    while len(queue) != 0:\n",
    "        popped = queue.popleft()\n",
    "        [removed, domain2] = Remove_Arcs(popped, domain2)\n",
    "\n",
    "        if removed == 1:\n",
    "            global arcs_pruned\n",
    "            arcs_pruned = arcs_pruned + 1\n",
    "            \n",
    "            if len(domain2[popped[0]]) == 0:\n",
    "                return (0, domain2)\n",
    "            \n",
    "            adjacency2 = [adj for adj in adjacency[popped[0]] if adj != popped[1]]\n",
    "\n",
    "            for j in adjacency2:\n",
    "                added = [j, popped[0]]\n",
    "                \n",
    "                if assignment[j] != 1:\n",
    "                    queue.append(added)\n",
    "    \n",
    "    return (1, domain2)"
   ]
  },
  {
   "cell_type": "code",
   "execution_count": 7,
   "metadata": {},
   "outputs": [],
   "source": [
    "# This is the function which removes inconsistent values\n",
    "# Function is called by AC3\n",
    "\n",
    "def Remove_Arcs(popped, domain2):\n",
    "    \n",
    "    removed = 0\n",
    "    if len(domain2[popped[1]]) == 1:\n",
    "        c = domain2[popped[1]][0]\n",
    "        \n",
    "        if c in domain2[popped[0]]:\n",
    "            domain2[popped[0]].remove(c)\n",
    "            removed = 1\n",
    "    \n",
    "    return (removed, domain2)"
   ]
  },
  {
   "cell_type": "code",
   "execution_count": 8,
   "metadata": {},
   "outputs": [],
   "source": [
    "# Here, program reads input file, creates adjacency list, and initialize other data types that will be used\n",
    "# Then, backtracking function is called. If there is no solution, it return error message\n",
    "# If it founds solution, it prints corresponding color of each vertex and number of arcs reduced by AC3\n",
    "# There is also timer, which shows the time it took to run backtracing function.\n",
    "# At the end, it double checks whether constraints are preserved or not\n",
    "\n",
    "def CSP(input_file):\n",
    "    \n",
    "    file = open(input_file, 'r')\n",
    "    lines = file.readlines()\n",
    "\n",
    "    global N, M, C \n",
    "    global arcs_pruned\n",
    "    \n",
    "    arcs_pruned = 0\n",
    "    N = 0\n",
    "    M = 0\n",
    "    mode = 1\n",
    "    sub = 1\n",
    "    \n",
    "    for line in lines:\n",
    "        if line[0] != \"#\" and line[0] != 'c' and line[0] != 'C':\n",
    "            M = M + 1\n",
    "            b = line.strip().split(\",\")\n",
    "            if int(b[0]) > N:\n",
    "                N = int(b[0])\n",
    "            if int(b[1]) > N:\n",
    "                N = int(b[1])\n",
    "            if int(b[0]) == 0 or int(b[1]) == 0:\n",
    "                mode = 0\n",
    "    \n",
    "    if mode == 0:\n",
    "        N = N + 1\n",
    "        sub = 0\n",
    "    \n",
    "    adjacency = []\n",
    "    for i in range(N):\n",
    "        adjacency.append([])\n",
    "    \n",
    "    for line in lines:\n",
    "        if line[0] == 'c' or line[0] == 'C':\n",
    "            a = line.strip().split(\"=\")\n",
    "            C = int(a[1])\n",
    "        elif line[0] != \"#\":\n",
    "            b = line.strip().split(\",\")\n",
    "            x = int(b[0]) - sub\n",
    "            y = int(b[1]) - sub\n",
    "            adjacency[x].append(y)\n",
    "            adjacency[y].append(x)\n",
    "    \n",
    "    res = []\n",
    "    for i in range(N):\n",
    "        res.append(-1)\n",
    "\n",
    "    assignment = []\n",
    "    for i in range(N):\n",
    "        assignment.append(-1)\n",
    "    \n",
    "    domain = []\n",
    "    for i in range(N):\n",
    "        domain.append([])\n",
    "    \n",
    "    for i in range(0, N):\n",
    "        for j in range(1, C + 1):\n",
    "            domain[i].append(j)\n",
    "    \n",
    "    start_time = time.time()\n",
    "    output = Backtracking(res, adjacency, domain, assignment)\n",
    "    finish_time = time.time()\n",
    "    \n",
    "    if output == 0:\n",
    "        print(f\"There is no solution with C={C}. Try to increase number of colors\")\n",
    "    else:\n",
    "        print(\"SOLUTION FOUND!\\n\")\n",
    "        print(f\"There are {N} vertices and {M} edges. Number of colors to be used is {C}\\n\")\n",
    "        print(f\"Program took {finish_time - start_time} seconds to complete!\\n\")\n",
    "        print(\"Here are the solution:\")\n",
    "        print(output)\n",
    "        print(\"\\nNumber of Arcs pruned by AC3:\", arcs_pruned)\n",
    "    \n",
    "    flag = 1\n",
    "    for i in range(N):\n",
    "        for j in adjacency[i]:\n",
    "            if output[i] == output[j]:\n",
    "                flag = 0\n",
    "    \n",
    "    print(\"\\nSolution being checked according to constraints...\")\n",
    "    if flag:\n",
    "        print(\"All Constraints are Satisfied!\")\n",
    "    else:\n",
    "        print(\"ERROR! Solution violates constraints!\")"
   ]
  },
  {
   "cell_type": "code",
   "execution_count": 9,
   "metadata": {},
   "outputs": [
    {
     "name": "stdout",
     "output_type": "stream",
     "text": [
      "SOLUTION FOUND!\n",
      "\n",
      "There are 7 vertices and 17 edges. Number of colors to be used is 4\n",
      "\n",
      "Program took 0.0 seconds to complete!\n",
      "\n",
      "Here are the solution:\n",
      "[1, 2, 3, 3, 2, 1, 4]\n",
      "\n",
      "Number of Arcs pruned by AC3: 12\n",
      "\n",
      "Solution being checked according to constraints...\n",
      "All Constraints are Satisfied!\n"
     ]
    }
   ],
   "source": [
    "CSP(\"input1.txt\")"
   ]
  },
  {
   "cell_type": "code",
   "execution_count": 10,
   "metadata": {},
   "outputs": [
    {
     "name": "stdout",
     "output_type": "stream",
     "text": [
      "SOLUTION FOUND!\n",
      "\n",
      "There are 60 vertices and 90 edges. Number of colors to be used is 4\n",
      "\n",
      "Program took 0.0009980201721191406 seconds to complete!\n",
      "\n",
      "Here are the solution:\n",
      "[1, 2, 2, 2, 2, 1, 1, 1, 1, 2, 1, 2, 2, 2, 2, 1, 1, 1, 2, 3, 3, 1, 2, 2, 1, 3, 2, 3, 1, 2, 2, 3, 2, 1, 1, 3, 2, 1, 1, 1, 3, 2, 1, 2, 3, 3, 2, 1, 1, 1, 2, 2, 2, 3, 1, 3, 3, 1, 3, 1]\n",
      "\n",
      "Number of Arcs pruned by AC3: 80\n",
      "\n",
      "Solution being checked according to constraints...\n",
      "All Constraints are Satisfied!\n"
     ]
    }
   ],
   "source": [
    "CSP(\"input2.txt\")"
   ]
  },
  {
   "cell_type": "code",
   "execution_count": 11,
   "metadata": {},
   "outputs": [
    {
     "name": "stdout",
     "output_type": "stream",
     "text": [
      "SOLUTION FOUND!\n",
      "\n",
      "There are 23 vertices and 63 edges. Number of colors to be used is 4\n",
      "\n",
      "Program took 0.0009672641754150391 seconds to complete!\n",
      "\n",
      "Here are the solution:\n",
      "[1, 2, 3, 2, 3, 2, 3, 3, 1, 1, 4, 1, 2, 4, 3, 1, 4, 2, 4, 3, 1, 2, 4]\n",
      "\n",
      "Number of Arcs pruned by AC3: 53\n",
      "\n",
      "Solution being checked according to constraints...\n",
      "All Constraints are Satisfied!\n"
     ]
    }
   ],
   "source": [
    "CSP(\"input3.txt\")"
   ]
  },
  {
   "cell_type": "code",
   "execution_count": 12,
   "metadata": {},
   "outputs": [
    {
     "name": "stdout",
     "output_type": "stream",
     "text": [
      "SOLUTION FOUND!\n",
      "\n",
      "There are 17 vertices and 45 edges. Number of colors to be used is 4\n",
      "\n",
      "Program took 0.0 seconds to complete!\n",
      "\n",
      "Here are the solution:\n",
      "[1, 2, 2, 3, 3, 4, 1, 4, 2, 2, 3, 1, 3, 2, 4, 3, 1]\n",
      "\n",
      "Number of Arcs pruned by AC3: 39\n",
      "\n",
      "Solution being checked according to constraints...\n",
      "All Constraints are Satisfied!\n"
     ]
    }
   ],
   "source": [
    "CSP(\"input4.txt\")"
   ]
  },
  {
   "cell_type": "code",
   "execution_count": null,
   "metadata": {},
   "outputs": [],
   "source": []
  }
 ],
 "metadata": {
  "kernelspec": {
   "display_name": "Python 3",
   "language": "python",
   "name": "python3"
  },
  "language_info": {
   "codemirror_mode": {
    "name": "ipython",
    "version": 3
   },
   "file_extension": ".py",
   "mimetype": "text/x-python",
   "name": "python",
   "nbconvert_exporter": "python",
   "pygments_lexer": "ipython3",
   "version": "3.8.5"
  }
 },
 "nbformat": 4,
 "nbformat_minor": 4
}
